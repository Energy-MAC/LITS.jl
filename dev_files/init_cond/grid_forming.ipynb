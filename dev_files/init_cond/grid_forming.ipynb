{
 "cells": [
  {
   "cell_type": "code",
   "execution_count": 51,
   "metadata": {
    "scrolled": false
   },
   "outputs": [
    {
     "data": {
      "text/html": [
       "<style>.container { width:100% !important; }</style>"
      ],
      "text/plain": [
       "HTML{String}(\"<style>.container { width:100% !important; }</style>\")"
      ]
     },
     "metadata": {},
     "output_type": "display_data"
    },
    {
     "name": "stdout",
     "output_type": "stream",
     "text": [
      "This is Ipopt version 3.12.10, running with linear solver mumps.\n",
      "NOTE: Other linear solvers might be more efficient (see Ipopt documentation).\n",
      "\n",
      "Number of nonzeros in equality constraint Jacobian...:       28\n",
      "Number of nonzeros in inequality constraint Jacobian.:        0\n",
      "Number of nonzeros in Lagrangian Hessian.............:       40\n",
      "\n",
      "Total number of variables............................:       10\n",
      "                     variables with only lower bounds:        0\n",
      "                variables with lower and upper bounds:        0\n",
      "                     variables with only upper bounds:        0\n",
      "Total number of equality constraints.................:       10\n",
      "Total number of inequality constraints...............:        0\n",
      "        inequality constraints with only lower bounds:        0\n",
      "   inequality constraints with lower and upper bounds:        0\n",
      "        inequality constraints with only upper bounds:        0\n",
      "\n",
      "iter    objective    inf_pr   inf_du lg(mu)  ||d||  lg(rg) alpha_du alpha_pr  ls\n",
      "   0  0.0000000e+00 5.00e-01 0.00e+00  -1.0 0.00e+00    -  0.00e+00 0.00e+00   0\n",
      "   1  0.0000000e+00 1.36e-02 0.00e+00  -1.7 7.00e-01    -  1.00e+00 1.00e+00h  1\n",
      "   2  0.0000000e+00 1.19e-04 0.00e+00  -3.8 2.62e-02    -  1.00e+00 1.00e+00h  1\n",
      "   3  0.0000000e+00 9.48e-09 0.00e+00  -5.7 1.26e-04    -  1.00e+00 1.00e+00h  1\n",
      "\n",
      "Number of Iterations....: 3\n",
      "\n",
      "                                   (scaled)                 (unscaled)\n",
      "Objective...............:   0.0000000000000000e+00    0.0000000000000000e+00\n",
      "Dual infeasibility......:   0.0000000000000000e+00    0.0000000000000000e+00\n",
      "Constraint violation....:   9.4828228255905422e-09    9.4828228255905422e-09\n",
      "Complementarity.........:   0.0000000000000000e+00    0.0000000000000000e+00\n",
      "Overall NLP error.......:   9.4828228255905422e-09    9.4828228255905422e-09\n",
      "\n",
      "\n",
      "Number of objective function evaluations             = 4\n",
      "Number of objective gradient evaluations             = 4\n",
      "Number of equality constraint evaluations            = 4\n",
      "Number of inequality constraint evaluations          = 0\n",
      "Number of equality constraint Jacobian evaluations   = 4\n",
      "Number of inequality constraint Jacobian evaluations = 0\n",
      "Number of Lagrangian Hessian evaluations             = 3\n",
      "Total CPU secs in IPOPT (w/o function evaluations)   =      0.002\n",
      "Total CPU secs in NLP function evaluations           =      0.000\n",
      "\n",
      "EXIT: Optimal Solution Found.\n"
     ]
    }
   ],
   "source": [
    "using PowerModels\n",
    "using Ipopt\n",
    "using ForwardDiff\n",
    "using OrdinaryDiffEq\n",
    "using NLsolve\n",
    "\n",
    "display(HTML(\"<style>.container { width:100% !important; }</style>\"))\n",
    "\n",
    "data = PowerModels.parse_file(\"Twogen2bus.m\")\n",
    "pf_result = run_ac_pf(data ,Ipopt.Optimizer)\n",
    "#PowerModels.print_summary(pf_result[\"solution\"])\n",
    "\n",
    "# Load flow results\n",
    "\n",
    "# bus results\n",
    "va1 =pf_result[\"solution\"][\"bus\"][\"1\"][\"va\"]\n",
    "va2 =pf_result[\"solution\"][\"bus\"][\"2\"][\"va\"]\n",
    "vm1 =pf_result[\"solution\"][\"bus\"][\"1\"][\"vm\"]\n",
    "vm2 =pf_result[\"solution\"][\"bus\"][\"2\"][\"vm\"];\n",
    "\n",
    "# Voltage at bus 1 (grid forming)\n",
    "V_tR = vm1*cos(va1)\n",
    "V_tI = vm1*sin(va1)\n",
    "\n",
    "\n",
    "# Voltage at bus 2 (grid following)\n",
    "V_tR1 = vm2*cos(va2)\n",
    "V_tI1 = vm2*sin(va2)\n",
    "\n",
    "# generator results\n",
    "pg = pf_result[\"solution\"][\"gen\"][\"1\"][\"pg\"]\n",
    "qg = pf_result[\"solution\"][\"gen\"][\"1\"][\"qg\"]\n",
    "\n",
    "# branch results\n",
    "p_ref =pf_result[\"solution\"][\"branch\"][\"1\"][\"pf\"]\n",
    "q_ref =pf_result[\"solution\"][\"branch\"][\"1\"][\"qf\"]\n",
    "p_ref1 =pf_result[\"solution\"][\"branch\"][\"1\"][\"pt\"]\n",
    "q_ref1 =pf_result[\"solution\"][\"branch\"][\"1\"][\"qt\"];"
   ]
  },
  {
   "cell_type": "code",
   "execution_count": 53,
   "metadata": {},
   "outputs": [
    {
     "name": "stdout",
     "output_type": "stream",
     "text": [
      "\u001b[1mMetadata\u001b[0m\n",
      "  baseMVA: 1000\n",
      "  per_unit: true\n",
      "\n",
      "\u001b[1mTable Counts\u001b[0m\n",
      "  bus: 2\n",
      "  gen: 1\n",
      "  branch: 1\n",
      "\n",
      "\n",
      "\u001b[1mTable: bus\u001b[0m\n",
      "            vm,     va\n",
      "      1: 1.020,  0.000\n",
      "      2: 1.000, -0.128\n",
      "\n",
      "\n",
      "\u001b[1mTable: gen\u001b[0m\n",
      "            pg,    qg\n",
      "      1: 0.703, 0.051\n",
      "\n",
      "\n",
      "\u001b[1mTable: branch\u001b[0m\n",
      "            pf,    qf,     pt,     qt\n",
      "      1: 0.203, 0.001, -0.200, -0.020\n"
     ]
    }
   ],
   "source": [
    "PowerModels.print_summary(pf_result[\"solution\"])"
   ]
  },
  {
   "cell_type": "code",
   "execution_count": 54,
   "metadata": {},
   "outputs": [
    {
     "name": "stdout",
     "output_type": "stream",
     "text": [
      "\u001b[1mMetadata\u001b[0m\n",
      "  baseMVA: 1000\n",
      "  name: Twogen2bus\n",
      "  per_unit: true\n",
      "  source_type: matpower\n",
      "  source_version: 2\n",
      "\n",
      "\u001b[1mTable Counts\u001b[0m\n",
      "  bus: 2\n",
      "  load: 2\n",
      "  shunt: 0\n",
      "  gen: 1\n",
      "  storage: 0\n",
      "  switch: 0\n",
      "  branch: 1\n",
      "  dcline: 0\n",
      "\n",
      "\n",
      "\u001b[1mTable: bus\u001b[0m\n",
      "         bus_i, bus_type,    vm\n",
      "      1:     1,        3, 1.020\n",
      "      2:     2,        1, 1.000\n",
      "\n",
      "  default values:\n",
      "    base_kv: 320.000\n",
      "    va: 0.000\n",
      "    vmin: 0.940\n",
      "    vmax: 1.060\n",
      "    area: 1\n",
      "    source_id: [(2)]\n",
      "    zone: 1\n",
      "\n",
      "\n",
      "\u001b[1mTable: load\u001b[0m\n",
      "         load_bus,    pd,    qd\n",
      "      1:        1, 0.500, 0.050\n",
      "      2:        2, 0.200, 0.020\n",
      "\n",
      "  default values:\n",
      "    status: 1\n",
      "    source_id: [(2)]\n",
      "\n",
      "\n",
      "\u001b[1mTable: gen\u001b[0m\n",
      "         gen_bus,    pg,    qg,    vg,    mbase,  pmin,  pmax,   qmin,  qmax, gen_status,   pc1,   pc2, qc1max, qc1min, qc2max, qc2min, ramp_10, ramp_30, ramp_agc, ramp_q, source_id\n",
      "      1:       1, 0.700, 0.070, 1.020, 1000.000, 0.000, 1.000, -0.100, 0.100,       1000, 0.000, 0.000,  0.000,  0.000,  0.000,  0.000,   0.000,   0.000,    0.000,  0.000,     [(2)]\n",
      "\n",
      "\n",
      "\u001b[1mTable: branch\u001b[0m\n",
      "         f_bus, t_bus,  br_r,  br_x,  g_fr,  b_fr,  g_to,  b_to,   tap, shift, rate_a, rate_b, rate_c, br_status, angmax, angmin, source_id, transformer\n",
      "      1:     1,     2, 0.065, 0.650, 0.000, 0.022, 0.000, 0.022, 1.000, 0.000,  0.100,  0.100,  0.100,         1,  0.018, -0.018,     [(2)],       false\n"
     ]
    }
   ],
   "source": [
    "PowerModels.print_summary(data)"
   ]
  },
  {
   "cell_type": "code",
   "execution_count": 55,
   "metadata": {},
   "outputs": [
    {
     "data": {
      "text/plain": [
       "1.02"
      ]
     },
     "execution_count": 55,
     "metadata": {},
     "output_type": "execute_result"
    }
   ],
   "source": [
    "# Define the parameters\n",
    "lf =0.08\n",
    "rf = 0.003\n",
    "cf = 0.074\n",
    "\n",
    "# Need to find values for these\n",
    "\n",
    "rt =0.00005\n",
    "lt = 0.15\n",
    "\n",
    "Rp = 0.02\n",
    "Rq =0.001\n",
    "ωz = 2*pi*5.0\n",
    "\n",
    "\n",
    "kvp = 0.52\n",
    "kvi = 1.16\n",
    "kvf = 1.0\n",
    "rv = 0.0\n",
    "lv =0.2\n",
    "kip = 0.74\n",
    "kii = 1.19\n",
    "kif = 0\n",
    "#kip=1.27\n",
    "#kii=14.3\n",
    "#kvp = 0.59\n",
    "#kvi = 736\n",
    "\n",
    "ωg = 1.0 #ω_apc \n",
    "ω_ref = 1.0\n",
    "ωb = 2*pi*50.0\n",
    "ω_star = 1\n",
    "#qg=0\n",
    "#pg=0.5\n",
    "v_ref = V_tR\n",
    "v_g=V_tR"
   ]
  },
  {
   "cell_type": "code",
   "execution_count": 83,
   "metadata": {},
   "outputs": [
    {
     "data": {
      "text/plain": [
       "0.15"
      ]
     },
     "execution_count": 83,
     "metadata": {},
     "output_type": "execute_result"
    }
   ],
   "source": [
    "lt=0.15"
   ]
  },
  {
   "cell_type": "code",
   "execution_count": 93,
   "metadata": {},
   "outputs": [
    {
     "name": "stdout",
     "output_type": "stream",
     "text": [
      "Results of Nonlinear Solver Algorithm\n",
      " * Algorithm: Trust-region with dogleg and autoscaling\n",
      " * Starting Point: [1.02, 0.0, 0.6888242930824501, 0.050321206397434655, 0.6888242930824501, 0.050321206397434655, 0.7026007789440991, 0.05132763052538335, 0.2, 0.0, 0.0, 0.0, 0.0, 0.0]\n",
      " * Zero: [1.0241741492535046, -0.13194828644853746, 0.6695056054398789, -0.1283403666877176, 0.6597414322426872, -0.20412925373247692, 0.7026246253384617, 0.12201215332005758, 0.2283512250924352, 0.5687426140023165, -0.694235276118568, 0.0016878292574112436, -0.0003235471429102121, 0.0]\n",
      " * Inf-norm of residuals: 0.000000\n",
      " * Iterations: 3\n",
      " * Convergence: true\n",
      "   * |x - x'| < 0.0e+00: false\n",
      "   * |f(x)| < 1.0e-08: true\n",
      " * Function Calls (f): 4\n",
      " * Jacobian Calls (df/dx): 4"
     ]
    }
   ],
   "source": [
    "function system!(F,x)\n",
    "    pm = x[1]*x[5] + x[2]*x[6]\n",
    "    qm = -x[1]*x[6] + x[2]*x[5]\n",
    "    ω_apc = 1\n",
    "    v_hat = 1.065\n",
    "    v_iref_d = v_hat - rv*x[5] + ω_apc*lv*x[6]\n",
    "    v_iref_q = - rv*x[6] - ω_apc*lv*x[5]\n",
    "    i_hat_d = kvp*(v_iref_d -x[1]) + kvi*x[10] - ω_apc*cf*x[2] + kif*x[5]\n",
    "    i_hat_q = kvp*(v_iref_d -x[2]) + kvi*x[11] + ω_apc*cf*x[1] + kif*x[6]\n",
    "    v_md = kip*(i_hat_d -x[3]) + kii*x[12] - ω_apc*lf*x[4] + kvf*x[1]\n",
    "    v_mq = kip*(i_hat_q -x[4]) + kii*x[13] + ω_apc*lf*x[3] + kvf*x[2]\n",
    "    v_gd = v_g*cos(x[9])\n",
    "    v_gq = -v_g*sin(x[9])\n",
    "    ωg=ω_apc\n",
    "    \n",
    "    \n",
    "### Grid forming equations\n",
    "  #𝜕eg/𝜕t\n",
    "F[1]= (ωb / cf)*(x[3] - x[5]) + ωg*ωb*x[2]\n",
    "  #𝜕eq/𝜕t\n",
    "F[2]= (ωb / cf)*(x[4] - x[6]) - ωg*ωb*x[1]\n",
    "   #𝜕isd/𝜕t\n",
    "F[3]= (ωb / lf)*(v_md - x[1]) - (rf*ωb/lf)*x[3] + ωb*ωg*x[4]\n",
    "   #𝜕isq/𝜕t\n",
    "F[4]= (ωb / lf)*(v_mq - x[2]) - (rf*ωb/lf)*x[4] - ωb*ωg*x[3]\n",
    "     #𝜕igd/𝜕t\n",
    "F[5]= (ωb / lt)*(x[1] - v_gd) - (rt*ωb/lt)*x[5] + ωb*ωg*x[6]\n",
    "   #𝜕igq/𝜕t\n",
    "F[6]= (ωb / lt)*(x[2] - v_gq) - (rt*ωb/lt)*x[6] - ωb*ωg*x[5] \n",
    "   #𝜕pf/𝜕t\n",
    "F[7]=  ωz*(pm- x[7])\n",
    "   #𝜕qf/𝜕t\n",
    "F[8]= ωz*(qm - x[8])\n",
    "  #𝜕δc/𝜕t\n",
    "F[9]= ωb*(ω_apc-ωg)\n",
    "   #𝜕ξ_d/𝜕t\n",
    "F[10]= v_iref_d - x[1]\n",
    "   #𝜕ξ_q/𝜕t\n",
    "F[11]= v_iref_q - x[2]\n",
    "   #𝜕γ_d/𝜕t\n",
    "F[12]=i_hat_d - x[3]\n",
    "    #𝜕γ_q/𝜕t\n",
    "F[13]= i_hat_q - x[4]\n",
    "    \n",
    "F[14]= - pg+v_gd*x[5] + v_gq*x[6] \n",
    "    \n",
    "end\n",
    "\n",
    "\n",
    "#Initial Conditions\n",
    "      initial =  [\n",
    "           v_g, #egd1\n",
    "           0, #egq1\n",
    "            pg/v_g, #isd1\n",
    "            qg/v_g, #isq1\n",
    "            pg/v_g, #igd1\n",
    "            qg/v_g,#igq1\n",
    "            pg,\n",
    "            qg,\n",
    "            0.2,#δc1\n",
    "            0.0, #ξ_d1\n",
    "            0.0, #ξ_q1\n",
    "            0.0, #γ_d1\n",
    "            0.0, #γ_q1\n",
    "            0,\n",
    "         ]\n",
    "\n",
    "\n",
    "         sys_solve = NLsolve.nlsolve(\n",
    "                     system!,\n",
    "                     initial,\n",
    "                     method = :trust_region,\n",
    "                     iterations=1000,\n",
    "                    ) #Solve using initial guess x0\n",
    "                      print(sys_solve)\n"
   ]
  },
  {
   "cell_type": "code",
   "execution_count": 94,
   "metadata": {},
   "outputs": [
    {
     "data": {
      "text/plain": [
       "14-element Array{Float64,1}:\n",
       "  1.0241741492535046   \n",
       " -0.13194828644853746  \n",
       "  0.6695056054398789   \n",
       " -0.1283403666877176   \n",
       "  0.6597414322426872   \n",
       " -0.20412925373247692  \n",
       "  0.7026246253384617   \n",
       "  0.12201215332005758  \n",
       "  0.2283512250924352   \n",
       "  0.5687426140023165   \n",
       " -0.694235276118568    \n",
       "  0.0016878292574112436\n",
       " -0.0003235471429102121\n",
       "  0.0                  "
      ]
     },
     "execution_count": 94,
     "metadata": {},
     "output_type": "execute_result"
    }
   ],
   "source": [
    "x = sys_solve.zero    "
   ]
  },
  {
   "cell_type": "code",
   "execution_count": 95,
   "metadata": {},
   "outputs": [
    {
     "data": {
      "text/plain": [
       "0.05132763052538335"
      ]
     },
     "execution_count": 95,
     "metadata": {},
     "output_type": "execute_result"
    }
   ],
   "source": [
    "qg"
   ]
  },
  {
   "cell_type": "code",
   "execution_count": 96,
   "metadata": {},
   "outputs": [
    {
     "data": {
      "text/plain": [
       "0.050473026848537716"
      ]
     },
     "execution_count": 96,
     "metadata": {},
     "output_type": "execute_result"
    }
   ],
   "source": [
    "-v_g*cos(x[9])*x[6] + -v_g*sin(x[9])*x[5] "
   ]
  },
  {
   "cell_type": "code",
   "execution_count": 76,
   "metadata": {},
   "outputs": [
    {
     "data": {
      "text/plain": [
       "1.3781531471579456e-11"
      ]
     },
     "execution_count": 76,
     "metadata": {},
     "output_type": "execute_result"
    }
   ],
   "source": [
    "v_g*cos(x[9])*x[5] -v_g*sin(x[9])*x[6] -pg"
   ]
  },
  {
   "cell_type": "code",
   "execution_count": null,
   "metadata": {},
   "outputs": [],
   "source": [
    "(ωb / cf)*(x[4] - x[6]) - ωg*ωb*x[1]"
   ]
  },
  {
   "cell_type": "code",
   "execution_count": null,
   "metadata": {},
   "outputs": [],
   "source": [
    "    v_gd = v_g*cos(x[9])\n",
    "    v_gq = -v_g*sin(x[9])"
   ]
  },
  {
   "cell_type": "code",
   "execution_count": null,
   "metadata": {},
   "outputs": [],
   "source": [
    "v_gd"
   ]
  },
  {
   "cell_type": "code",
   "execution_count": null,
   "metadata": {},
   "outputs": [],
   "source": [
    "v_gq"
   ]
  },
  {
   "cell_type": "code",
   "execution_count": null,
   "metadata": {},
   "outputs": [],
   "source": []
  }
 ],
 "metadata": {
  "kernelspec": {
   "display_name": "Julia 1.3.0",
   "language": "julia",
   "name": "julia-1.3"
  },
  "language_info": {
   "file_extension": ".jl",
   "mimetype": "application/julia",
   "name": "julia",
   "version": "1.3.0"
  }
 },
 "nbformat": 4,
 "nbformat_minor": 2
}
